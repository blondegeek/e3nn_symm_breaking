{
 "cells": [
  {
   "cell_type": "markdown",
   "metadata": {},
   "source": [
    "# Recovering output with intermediate symmetry by constraining order parameters\n",
    "In this example, we will show that by constraining the learnable order parameter, we can recover output with symmetry that is intermediate between input and target output symmetries."
   ]
  },
  {
   "cell_type": "code",
   "execution_count": 1,
   "metadata": {},
   "outputs": [],
   "source": [
    "import torch\n",
    "import torch_geometric as tg\n",
    "import e3nn\n",
    "from e3nn import rs, o3\n",
    "from e3nn.networks import GatedConvParityNetwork\n",
    "from e3nn.point.message_passing import Convolution\n",
    "import e3nn.point.data_helpers as dh\n",
    "from e3nn.tensor.spherical_tensor import SphericalTensor\n",
    "import math\n",
    "import numpy as np\n",
    "import matplotlib.pyplot as plt\n",
    "\n",
    "torch.set_default_dtype(torch.float64)\n",
    "\n",
    "device = \"cuda:1\""
   ]
  },
  {
   "cell_type": "code",
   "execution_count": 2,
   "metadata": {},
   "outputs": [],
   "source": [
    "import pymatgen\n",
    "from pymatgen.core.structure import Structure\n",
    "from pymatgen.symmetry.analyzer import SpacegroupAnalyzer"
   ]
  },
  {
   "cell_type": "markdown",
   "metadata": {},
   "source": [
    "### Same set up as before"
   ]
  },
  {
   "cell_type": "code",
   "execution_count": 3,
   "metadata": {},
   "outputs": [
    {
     "name": "stdout",
     "output_type": "stream",
     "text": [
      "4.055964 4.055964 0.000000\n",
      "-4.055964 4.055964 0.000000\n",
      "0.000000 0.000000 8.112000\n"
     ]
    }
   ],
   "source": [
    "struct_221_primitive = Structure.from_file('structures/221_orig.cif')\n",
    "struct_221 = Structure.from_file(\"structures/221_anon.cif\")\n",
    "struct_62 = Structure.from_file(filename=\"structures/62_anon_sorted.cif\")\n",
    "\n",
    "rlatt = torch.tensor(struct_221_primitive.lattice.reciprocal_lattice.abc)\n",
    "\n",
    "# Rotate space group 62 setting lattice to match Cartesian coordinates of cubic setting\n",
    "new_lattice = o3.rot_z(np.pi / 4.).T @ struct_221.lattice.matrix\n",
    "\n",
    "struct_221 = Structure(new_lattice, struct_221.species, struct_221.frac_coords)\n",
    "struct_62 = Structure(new_lattice, struct_62.species, struct_62.frac_coords)\n",
    "\n",
    "print(struct_221.lattice)\n",
    "lat = 4.055964"
   ]
  },
  {
   "cell_type": "code",
   "execution_count": 4,
   "metadata": {},
   "outputs": [],
   "source": [
    "atom_types_list = ['A', 'B', 'X']\n",
    "atom_indices = [atom_types_list.index(str(s.species)[0]) for s in struct_221]  # Remove decorators"
   ]
  },
  {
   "cell_type": "markdown",
   "metadata": {},
   "source": [
    "### This time we only use a pseudovector order parameter according to our previous notebook's findings."
   ]
  },
  {
   "cell_type": "code",
   "execution_count": 5,
   "metadata": {},
   "outputs": [],
   "source": [
    "Rs_order_param = [(1, 1, 1)]  # 2020.08.25 ONLY NEED PSEUDOVECTOR (per atom)\n",
    "A_input = torch.tensor([1., 0., 0.]).unsqueeze(0)\n",
    "B_input = torch.tensor([0., 1., 0.]).unsqueeze(0)\n",
    "X_input = torch.tensor([0., 0., 1.]).unsqueeze(0)\n",
    "atom_inputs = [A_input, B_input, X_input]\n",
    "Rs_in = [(3, 0, 1)] + Rs_order_param # 3 atom types + order parameters\n",
    "N = len(struct_221)\n",
    "zeros = torch.zeros(N - 4, rs.dim(Rs_order_param))\n",
    "# order_param_input = torch.zeros(20, rs.dim(Rs_order_param))\n",
    "order_param_input = torch.zeros(2, rs.dim(Rs_order_param) - 1) # Remove z and same across pairs\n",
    "# order_param_input.to(device)\n",
    "order_param_input.requires_grad = True\n",
    "\n",
    "lmax = 6\n",
    "\n",
    "Rs_out = [(1, 1, -1)]\n",
    "r_max = 3.5"
   ]
  },
  {
   "cell_type": "code",
   "execution_count": 6,
   "metadata": {},
   "outputs": [],
   "source": [
    "def create_features(order_param_input):\n",
    "    # Modify for z\n",
    "    new_order_param = torch.stack([order_param_input[:, 0].repeat(2),\n",
    "                                   torch.zeros(4), \n",
    "                                   order_param_input[:, 1].repeat(2)], dim=-1)\n",
    "    order_param = torch.cat([zeros, new_order_param], dim=0)\n",
    "\n",
    "    N = len(atom_indices)\n",
    "    all_atom_types = torch.cat([\n",
    "        atom_inputs[i] for i in atom_indices\n",
    "    ], dim=0)  # [N, atom_types]\n",
    "\n",
    "    return torch.cat([all_atom_types, order_param], dim=-1)"
   ]
  },
  {
   "cell_type": "code",
   "execution_count": 7,
   "metadata": {},
   "outputs": [
    {
     "name": "stdout",
     "output_type": "stream",
     "text": [
      "max distortion in Angstroms (62):  tensor(0.2565)\n"
     ]
    }
   ],
   "source": [
    "relative_vecs_62 = []\n",
    "for i, site in enumerate(struct_221):\n",
    "    sites = struct_62.get_sites_in_sphere(site.coords, 1., include_index=True, include_image=True)\n",
    "    sorted_sites = sorted(sites, key=lambda x: x[1])\n",
    "    r = sorted_sites[0][0].coords - site.coords\n",
    "    relative_vecs_62.append(r)\n",
    "relative_vecs_62 = np.stack(relative_vecs_62, axis=0)\n",
    "pos = torch.tensor(struct_221.cart_coords, dtype=torch.float64)\n",
    "relative_vecs_62 = torch.tensor(relative_vecs_62, dtype=torch.float64)\n",
    "print(\"max distortion in Angstroms (62): \", relative_vecs_62.norm(2, -1).max())"
   ]
  },
  {
   "cell_type": "code",
   "execution_count": 8,
   "metadata": {},
   "outputs": [],
   "source": [
    "model_kwargs = {\n",
    "    'convolution': Convolution,\n",
    "    'Rs_in': Rs_in, 'Rs_out': Rs_out,\n",
    "    'mul': 6, 'lmax': lmax, 'layers': 3,\n",
    "    'max_radius': r_max,  # From dataset\n",
    "    'number_of_basis': 10,\n",
    "}\n",
    "\n",
    "model = GatedConvParityNetwork(**model_kwargs)"
   ]
  },
  {
   "cell_type": "code",
   "execution_count": 9,
   "metadata": {},
   "outputs": [],
   "source": [
    "opt = torch.optim.Adam(model.parameters(), 1e-2)\n",
    "order_opt = torch.optim.Adam([order_param_input], 1e-2)"
   ]
  },
  {
   "cell_type": "code",
   "execution_count": 10,
   "metadata": {},
   "outputs": [
    {
     "data": {
      "text/plain": [
       "<All keys matched successfully>"
      ]
     },
     "execution_count": 10,
     "metadata": {},
     "output_type": "execute_result"
    }
   ],
   "source": [
    "model.load_state_dict(torch.load('spacegroup_62_model_overfit.torch')['model'])"
   ]
  },
  {
   "cell_type": "code",
   "execution_count": 11,
   "metadata": {},
   "outputs": [],
   "source": [
    "# # Used to create overfit model\n",
    "# max_iter = 31\n",
    "\n",
    "# model.to(device)\n",
    "\n",
    "# for i in range(max_iter):\n",
    "#     features = create_features(order_param_input)\n",
    "#     data = dh.DataPeriodicNeighbors(features, Rs_in, pos, struct_221.lattice.matrix, r_max, y=relative_vecs_62)\n",
    "#     data.to(device)\n",
    "#     output = model(data.x, data.edge_index, data.edge_attr, n_norm=6)\n",
    "#     loss = ((output - data.y[:, [1, 2, 0]]).abs()).mean()\n",
    "#     if i % 10 == 0:\n",
    "#         print(\"model update: \", loss)\n",
    "#     opt.zero_grad()\n",
    "#     loss.backward()\n",
    "#     opt.step() \n",
    "\n",
    "# torch.save({'model': model.state_dict(), 'order_param_input': order_param_input},\n",
    "#            'spacegroup_62_model_overfit.torch')"
   ]
  },
  {
   "cell_type": "code",
   "execution_count": 12,
   "metadata": {},
   "outputs": [
    {
     "name": "stdout",
     "output_type": "stream",
     "text": [
      "model update:  tensor(0.0676, device='cuda:1', grad_fn=<MeanBackward0>)\n",
      "order param update:  tensor(0.0676, grad_fn=<AddBackward0>)\n",
      "model update:  tensor(0.0423, device='cuda:1', grad_fn=<MeanBackward0>)\n",
      "order param update:  tensor(0.0379, grad_fn=<AddBackward0>)\n",
      "model update:  tensor(0.0424, device='cuda:1', grad_fn=<MeanBackward0>)\n",
      "order param update:  tensor(0.0294, grad_fn=<AddBackward0>)\n",
      "model update:  tensor(0.0449, device='cuda:1', grad_fn=<MeanBackward0>)\n",
      "order param update:  tensor(0.0476, grad_fn=<AddBackward0>)\n",
      "model update:  tensor(0.0318, device='cuda:1', grad_fn=<MeanBackward0>)\n",
      "order param update:  tensor(0.0353, grad_fn=<AddBackward0>)\n",
      "model update:  tensor(0.0320, device='cuda:1', grad_fn=<MeanBackward0>)\n",
      "order param update:  tensor(0.0299, grad_fn=<AddBackward0>)\n",
      "model update:  tensor(0.0332, device='cuda:1', grad_fn=<MeanBackward0>)\n",
      "order param update:  tensor(0.0335, grad_fn=<AddBackward0>)\n",
      "model update:  tensor(0.0295, device='cuda:1', grad_fn=<MeanBackward0>)\n",
      "order param update:  tensor(0.0303, grad_fn=<AddBackward0>)\n",
      "model update:  tensor(0.0298, device='cuda:1', grad_fn=<MeanBackward0>)\n",
      "order param update:  tensor(0.0298, grad_fn=<AddBackward0>)\n",
      "model update:  tensor(0.0317, device='cuda:1', grad_fn=<MeanBackward0>)\n",
      "order param update:  tensor(0.0312, grad_fn=<AddBackward0>)\n",
      "model update:  tensor(0.0302, device='cuda:1', grad_fn=<MeanBackward0>)\n",
      "order param update:  tensor(0.0312, grad_fn=<AddBackward0>)\n"
     ]
    }
   ],
   "source": [
    "max_iter = 101\n",
    "\n",
    "model.to(device)\n",
    "\n",
    "for i in range(max_iter):\n",
    "    # Update model\n",
    "    order_param_input.to('cpu')\n",
    "    features = create_features(order_param_input)\n",
    "    data = dh.DataPeriodicNeighbors(features, Rs_in, pos, struct_221.lattice.matrix, r_max, y=relative_vecs_62)\n",
    "    data.to(device)\n",
    "    output = model(data.x, data.edge_index, data.edge_attr, n_norm=6)\n",
    "    loss = ((output - data.y[:, [1, 2, 0]]).abs()).mean()\n",
    "    if i % 10 == 0:\n",
    "        print(\"model update: \", loss)\n",
    "    opt.zero_grad()\n",
    "    loss.backward()\n",
    "    opt.step() \n",
    "    \n",
    "    # Update input\n",
    "    order_param_input.to('cpu')\n",
    "    features = create_features(order_param_input)\n",
    "    data = dh.DataPeriodicNeighbors(features, Rs_in, pos, struct_221.lattice.matrix, r_max, y=relative_vecs_62)\n",
    "    data.to(device)\n",
    "    output = model(data.x, data.edge_index, data.edge_attr, n_norm=6)\n",
    "    loss = ((output - data.y[:, [1, 2, 0]]).abs()).mean().cpu() + 1e-2 * order_param_input.abs().mean()\n",
    "    if i % 10 == 0:\n",
    "        print(\"order param update: \", loss)\n",
    "    order_opt.zero_grad()\n",
    "    loss.backward()\n",
    "    order_opt.step() "
   ]
  },
  {
   "cell_type": "code",
   "execution_count": 13,
   "metadata": {},
   "outputs": [],
   "source": [
    "torch.save({'model': model.state_dict(), 'order_param_input': order_param_input},\n",
    "           'spacegroup_74_from_62_model_1_e.torch')"
   ]
  },
  {
   "cell_type": "code",
   "execution_count": 14,
   "metadata": {},
   "outputs": [],
   "source": [
    "order_param_input.to('cpu')\n",
    "features = create_features(order_param_input)\n",
    "# print(features)\n",
    "data = dh.DataPeriodicNeighbors(features, Rs_in, pos, struct_221.lattice.matrix, r_max, y=relative_vecs_62)\n",
    "data.to(device)\n",
    "output = model(data.x, data.edge_index, data.edge_attr, n_norm=6)"
   ]
  },
  {
   "cell_type": "code",
   "execution_count": 15,
   "metadata": {},
   "outputs": [
    {
     "data": {
      "text/plain": [
       "<matplotlib.colorbar.Colorbar at 0x7efda501b750>"
      ]
     },
     "execution_count": 15,
     "metadata": {},
     "output_type": "execute_result"
    },
    {
     "data": {
      "image/png": "[encoded data removed]",
      "text/plain": [
       "<Figure size 720x216 with 3 Axes>"
      ]
     },
     "metadata": {
      "needs_background": "light"
     },
     "output_type": "display_data"
    }
   ],
   "source": [
    "fig, ax = plt.subplots(2, 1, figsize=(10, 3))\n",
    "bound = 0.2\n",
    "mappable = ax[0].imshow(data.y.cpu().detach().numpy().T, cmap=\"plasma\", vmax=bound, vmin=-bound)\n",
    "ax[1].imshow(output[:, [2, 0, 1]].cpu().detach().numpy().T, cmap=\"plasma\", vmax=bound, vmin=-bound)\n",
    "sites = [str(s.species)[0] for s in struct_62]\n",
    "\n",
    "ax[0].set_title('target output')\n",
    "ax[1].set_title('network output')\n",
    "\n",
    "ax[0].set_xticks(range(len(sites)))\n",
    "ax[0].set_xticklabels([''] * len(sites))\n",
    "ax[1].set_xticks(range(len(sites)))\n",
    "ax[1].set_xticklabels(sites)\n",
    "\n",
    "ax[0].set_yticks(range(3))\n",
    "ax[1].set_yticks(range(3))\n",
    "ax[0].set_yticklabels(['x', 'y', 'z'])\n",
    "ax[1].set_yticklabels(['x', 'y', 'z'])\n",
    "fig.colorbar(mappable, ax=ax)"
   ]
  },
  {
   "cell_type": "code",
   "execution_count": 16,
   "metadata": {},
   "outputs": [],
   "source": [
    "new_struct = Structure(new_lattice, struct_221.species,\n",
    "                       struct_221.cart_coords + output.cpu()[:, [2, 0, 1]].detach().numpy(),\n",
    "                       coords_are_cartesian=True)\n",
    "new_struct.to(filename='intermediate_struct_in_space_group_74.cif')"
   ]
  },
  {
   "cell_type": "code",
   "execution_count": 17,
   "metadata": {},
   "outputs": [
    {
     "data": {
      "text/plain": [
       "74"
      ]
     },
     "execution_count": 17,
     "metadata": {},
     "output_type": "execute_result"
    }
   ],
   "source": [
    "pga = SpacegroupAnalyzer(new_struct)\n",
    "pga.get_space_group_number()"
   ]
  },
  {
   "cell_type": "code",
   "execution_count": null,
   "metadata": {},
   "outputs": [],
   "source": []
  }
 ],
 "metadata": {
  "kernelspec": {
   "display_name": "Python 3",
   "language": "python",
   "name": "python3"
  },
  "language_info": {
   "codemirror_mode": {
    "name": "ipython",
    "version": 3
   },
   "file_extension": ".py",
   "mimetype": "text/x-python",
   "name": "python",
   "nbconvert_exporter": "python",
   "pygments_lexer": "ipython3",
   "version": "3.7.5"
  }
 },
 "nbformat": 4,
 "nbformat_minor": 2
}
