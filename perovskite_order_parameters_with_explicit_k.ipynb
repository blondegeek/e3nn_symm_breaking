{
 "cells": [
  {
   "cell_type": "markdown",
   "metadata": {},
   "source": [
    "# Recovering order parameters with k-vectors\n",
    "This notebook provides a general sketch of how one would go about recovering order parameters with k-vectors. To learn the k-vectors is more involved but theoretically possible but beyond the scope of this paper."
   ]
  },
  {
   "cell_type": "code",
   "execution_count": 1,
   "metadata": {},
   "outputs": [],
   "source": [
    "import torch\n",
    "import torch_geometric as tg\n",
    "import e3nn\n",
    "from e3nn import rs, o3\n",
    "from e3nn.networks import GatedConvParityNetwork\n",
    "from e3nn.point.message_passing import Convolution\n",
    "import e3nn.point.data_helpers as dh\n",
    "from e3nn.tensor.spherical_tensor import SphericalTensor\n",
    "import math\n",
    "import numpy as np\n",
    "import matplotlib.pyplot as plt\n",
    "\n",
    "import pymatgen\n",
    "from pymatgen.core.structure import Structure\n",
    "from pymatgen.symmetry.analyzer import SpacegroupAnalyzer\n",
    "\n",
    "torch.set_default_dtype(torch.float64)\n",
    "\n",
    "device = \"cuda:3\""
   ]
  },
  {
   "cell_type": "code",
   "execution_count": 2,
   "metadata": {},
   "outputs": [
    {
     "name": "stdout",
     "output_type": "stream",
     "text": [
      "4.055964 4.055964 0.000000\n",
      "-4.055964 4.055964 0.000000\n",
      "0.000000 0.000000 8.112000\n"
     ]
    }
   ],
   "source": [
    "struct_221_primitive = Structure.from_file('structures/221_orig.cif')\n",
    "struct_221 = Structure.from_file(\"structures/221_anon.cif\")\n",
    "struct_62 = Structure.from_file(filename=\"structures/62_anon_sorted.cif\")\n",
    "\n",
    "rlatt = torch.tensor(struct_221_primitive.lattice.reciprocal_lattice.abc)\n",
    "\n",
    "# Rotate space group 62 setting lattice to match Cartesian coordinates of cubic setting\n",
    "new_lattice = o3.rot_z(np.pi / 4.).T @ struct_221.lattice.matrix\n",
    "\n",
    "struct_221 = Structure(new_lattice, struct_221.species, struct_221.frac_coords)\n",
    "struct_62 = Structure(new_lattice, struct_62.species, struct_62.frac_coords)\n",
    "\n",
    "print(struct_221.lattice)\n",
    "lat = 4.055964"
   ]
  },
  {
   "cell_type": "code",
   "execution_count": 3,
   "metadata": {},
   "outputs": [],
   "source": [
    "atom_types_list = ['A', 'B', 'X']\n",
    "atom_indices = [atom_types_list.index(str(s.species)[0]) for s in struct_221]  # Remove decorators"
   ]
  },
  {
   "cell_type": "markdown",
   "metadata": {},
   "source": [
    "### In this example, we simplify the order parameter recovery process a bit by stating which k-vectors we wish to recover order parameters for, in this case $M$ and $R$."
   ]
  },
  {
   "cell_type": "code",
   "execution_count": 4,
   "metadata": {},
   "outputs": [],
   "source": [
    "Rs_order_param = [(1, 1, 1)]  # Pseudovector\n",
    "A_input = torch.tensor([1., 0., 0.]).unsqueeze(0)\n",
    "B_input = torch.tensor([0., 1., 0.]).unsqueeze(0)\n",
    "X_input = torch.tensor([0., 0., 1.]).unsqueeze(0)\n",
    "atom_inputs = [A_input, B_input, X_input]\n",
    "Rs_in = [(3, 0, 1)] + Rs_order_param # 3 atom types + order parameters\n",
    "N = len(struct_221)\n",
    "zeros = torch.zeros(N - 4, rs.dim(Rs_order_param))\n",
    "\n",
    "R = torch.ones(3) * 0.5 # In L=1 basis\n",
    "M1 = torch.tensor([1., 0., 1.]) * 0.5 # In L=1 basis, xy\n",
    "kvecs = torch.stack([R, M1], dim=0)\n",
    "\n",
    "pseudo_order_param_input = torch.zeros(kvecs.shape[0], 3) \n",
    "# pseudo_order_param_input[0] = torch.tensor([0.4, 0, 0.4])\n",
    "pseudo_order_param_input.requires_grad = True\n",
    "\n",
    "lmax = 6\n",
    "\n",
    "Rs_out = [(1, 1, -1)]\n",
    "r_max = 3.5"
   ]
  },
  {
   "cell_type": "markdown",
   "metadata": {},
   "source": [
    "### This is the crucial part, we need to combine k-vector information with learnable order parameters.\n",
    "Note, that we fix an origin for the distortion with our choice of centering `perm_normalized_B_coords`."
   ]
  },
  {
   "cell_type": "code",
   "execution_count": 5,
   "metadata": {},
   "outputs": [],
   "source": [
    "def create_features(\n",
    "    kvecs,\n",
    "    pseudo_order_param_input,\n",
    "    normalized_B_coords):\n",
    "    \n",
    "    perm_normalized_B_coords = normalized_B_coords[:, [1, 2, 0]]\n",
    "    \n",
    "    vol = 1.\n",
    "    order_param_input = torch.cos(2 * math.pi / vol * (kvecs.unsqueeze(0) * perm_normalized_B_coords.unsqueeze(1)).sum(-1)) # [r, k]\n",
    "    order_param_input = order_param_input.unsqueeze(-1) * pseudo_order_param_input.unsqueeze(0) # [r, k, 3]\n",
    "    order_param_input = order_param_input.sum(-2)  # sum over kvectors\n",
    "    \n",
    "    assert list(order_param_input.shape) == [4, 3]\n",
    "    \n",
    "    order_param = torch.cat([zeros, order_param_input], dim=0)\n",
    "\n",
    "    N = len(atom_indices)\n",
    "    all_atom_types = torch.cat([\n",
    "        atom_inputs[i] for i in atom_indices\n",
    "    ], dim=0)  # [N, atom_types]\n",
    "\n",
    "    return torch.cat([all_atom_types, order_param], dim=-1)"
   ]
  },
  {
   "cell_type": "markdown",
   "metadata": {},
   "source": [
    "### Same as before, define displacements, model, and optimizers."
   ]
  },
  {
   "cell_type": "code",
   "execution_count": 6,
   "metadata": {},
   "outputs": [
    {
     "name": "stdout",
     "output_type": "stream",
     "text": [
      "max distortion in Angstroms (62):  tensor(0.2565)\n"
     ]
    }
   ],
   "source": [
    "relative_vecs_62 = []\n",
    "for i, site in enumerate(struct_221):\n",
    "    sites = struct_62.get_sites_in_sphere(site.coords, 1., include_index=True, include_image=True)\n",
    "    sorted_sites = sorted(sites, key=lambda x: x[1])\n",
    "    r = sorted_sites[0][0].coords - site.coords\n",
    "    relative_vecs_62.append(r)\n",
    "relative_vecs_62 = np.stack(relative_vecs_62, axis=0)\n",
    "pos = torch.tensor(struct_221.cart_coords, dtype=torch.float64)\n",
    "relative_vecs_62 = torch.tensor(relative_vecs_62, dtype=torch.float64)\n",
    "print(\"max distortion in Angstroms (62): \", relative_vecs_62.norm(2, -1).max())"
   ]
  },
  {
   "cell_type": "code",
   "execution_count": 7,
   "metadata": {},
   "outputs": [],
   "source": [
    "model_kwargs = {\n",
    "    'convolution': Convolution,\n",
    "    'Rs_in': Rs_in, 'Rs_out': Rs_out,\n",
    "    'mul': 6, 'lmax': lmax, 'layers': 3,\n",
    "    'max_radius': r_max,  # From dataset\n",
    "    'number_of_basis': 10,\n",
    "}\n",
    "\n",
    "model = GatedConvParityNetwork(**model_kwargs)"
   ]
  },
  {
   "cell_type": "code",
   "execution_count": 8,
   "metadata": {},
   "outputs": [],
   "source": [
    "opt = torch.optim.Adam(model.parameters(), 1e-3)\n",
    "order_opt = torch.optim.Adam([pseudo_order_param_input], 1e-3)"
   ]
  },
  {
   "cell_type": "code",
   "execution_count": 9,
   "metadata": {},
   "outputs": [
    {
     "data": {
      "text/plain": [
       "<All keys matched successfully>"
      ]
     },
     "execution_count": 9,
     "metadata": {},
     "output_type": "execute_result"
    }
   ],
   "source": [
    "model.load_state_dict(torch.load('spacegroup_62_model_overfit.torch')['model'])"
   ]
  },
  {
   "cell_type": "markdown",
   "metadata": {},
   "source": [
    "### Define our origin for the distortion."
   ]
  },
  {
   "cell_type": "code",
   "execution_count": 10,
   "metadata": {},
   "outputs": [],
   "source": [
    "normalized_B_coords = (torch.tensor(struct_62.cart_coords[-4:]) - torch.tensor(struct_62.cart_coords[-4:-3])) / lat\n",
    "normalized_B_coords.requires_grad = True"
   ]
  },
  {
   "cell_type": "markdown",
   "metadata": {},
   "source": [
    "### Train!"
   ]
  },
  {
   "cell_type": "code",
   "execution_count": 11,
   "metadata": {},
   "outputs": [
    {
     "name": "stdout",
     "output_type": "stream",
     "text": [
      "model update:  tensor(0.0676, device='cuda:3', grad_fn=<MeanBackward0>)\n",
      "order param update:  tensor(0.0676, grad_fn=<AddBackward0>)\n",
      "model update:  tensor(0.0581, device='cuda:3', grad_fn=<MeanBackward0>)\n",
      "order param update:  tensor(0.0563, grad_fn=<AddBackward0>)\n",
      "model update:  tensor(0.0197, device='cuda:3', grad_fn=<MeanBackward0>)\n",
      "order param update:  tensor(0.0199, grad_fn=<AddBackward0>)\n",
      "model update:  tensor(0.0130, device='cuda:3', grad_fn=<MeanBackward0>)\n",
      "order param update:  tensor(0.0123, grad_fn=<AddBackward0>)\n",
      "model update:  tensor(0.0102, device='cuda:3', grad_fn=<MeanBackward0>)\n",
      "order param update:  tensor(0.0104, grad_fn=<AddBackward0>)\n",
      "model update:  tensor(0.0106, device='cuda:3', grad_fn=<MeanBackward0>)\n",
      "order param update:  tensor(0.0106, grad_fn=<AddBackward0>)\n"
     ]
    }
   ],
   "source": [
    "max_iter = 51\n",
    "\n",
    "model.to(device)\n",
    "\n",
    "for i in range(max_iter):\n",
    "#     order_param_input.to('cpu')\n",
    "    features = create_features(kvecs, \n",
    "                               pseudo_order_param_input, \n",
    "                               normalized_B_coords)\n",
    "    data = dh.DataPeriodicNeighbors(features, Rs_in, pos, struct_221.lattice.matrix, r_max, y=relative_vecs_62)\n",
    "    data.to(device)\n",
    "    output = model(data.x, data.edge_index, data.edge_attr, n_norm=6)\n",
    "    loss = ((output - data.y[:, [1, 2, 0]]).abs()).mean()\n",
    "    if i % 10 == 0:\n",
    "        print(\"model update: \", loss)\n",
    "    opt.zero_grad()\n",
    "    loss.backward()\n",
    "    opt.step() \n",
    "    \n",
    "#     order_param_input.to('cpu')\n",
    "    features = create_features(kvecs, \n",
    "                               pseudo_order_param_input, \n",
    "                               normalized_B_coords)\n",
    "    data = dh.DataPeriodicNeighbors(features, Rs_in, pos, struct_221.lattice.matrix, r_max, y=relative_vecs_62)\n",
    "    data.to(device)\n",
    "    output = model(data.x, data.edge_index, data.edge_attr, n_norm=6)\n",
    "    loss = ((output - data.y[:, [1, 2, 0]]).abs()).mean().cpu() \n",
    "    loss = loss + 1e-2 * pseudo_order_param_input.abs().mean()\n",
    "    if i % 10 == 0:\n",
    "        print(\"order param update: \", loss)\n",
    "    order_opt.zero_grad()\n",
    "    loss.backward()\n",
    "    order_opt.step() "
   ]
  },
  {
   "cell_type": "code",
   "execution_count": 12,
   "metadata": {},
   "outputs": [
    {
     "data": {
      "text/plain": [
       "tensor([[0.5000, 0.5000, 0.5000],\n",
       "        [0.5000, 0.0000, 0.5000]])"
      ]
     },
     "execution_count": 12,
     "metadata": {},
     "output_type": "execute_result"
    }
   ],
   "source": [
    "kvecs"
   ]
  },
  {
   "cell_type": "code",
   "execution_count": 13,
   "metadata": {},
   "outputs": [],
   "source": [
    "rounded_pseudo = torch.tensor(pseudo_order_param_input.detach().numpy().round(3))"
   ]
  },
  {
   "cell_type": "markdown",
   "metadata": {},
   "source": [
    "### Here we recover an order parameter analogous to $(a000bb)$ in the Howard 1998 notation.\n",
    "where $(a00)$ cooresponds to a $z$ value for $M1$ and (0bb) coorespond to $-x$ and $+y$ values (minus sign comes from different in convention for $b$ vs. $a$ axis of 62 space group structure)."
   ]
  },
  {
   "cell_type": "code",
   "execution_count": 14,
   "metadata": {},
   "outputs": [
    {
     "data": {
      "text/plain": [
       "<matplotlib.colorbar.Colorbar at 0x7f704c564cd0>"
      ]
     },
     "execution_count": 14,
     "metadata": {},
     "output_type": "execute_result"
    },
    {
     "data": {
      "image/png": "[encoded data removed]",
      "text/plain": [
       "<Figure size 432x288 with 2 Axes>"
      ]
     },
     "metadata": {
      "needs_background": "light"
     },
     "output_type": "display_data"
    }
   ],
   "source": [
    "fig, ax = plt.subplots(1, 1)\n",
    "mappable = ax.imshow(rounded_pseudo, cmap='plasma')\n",
    "ax.set_yticks(range(len(kvecs)))\n",
    "ax.set_yticklabels([\"R\", \"M1\", \"M2\", \"M3\"])\n",
    "ax.set_xticks(range(3))\n",
    "ax.set_xticklabels(['y', 'z', 'x'])\n",
    "fig.colorbar(mappable)"
   ]
  },
  {
   "cell_type": "code",
   "execution_count": 15,
   "metadata": {},
   "outputs": [
    {
     "data": {
      "text/plain": [
       "tensor([[-0.0270, -0.0000,  0.0270],\n",
       "        [-0.0000, -0.0210,  0.0000]])"
      ]
     },
     "execution_count": 15,
     "metadata": {},
     "output_type": "execute_result"
    }
   ],
   "source": [
    "rounded_pseudo"
   ]
  },
  {
   "cell_type": "code",
   "execution_count": 16,
   "metadata": {},
   "outputs": [],
   "source": [
    "torch.save({'model': model.state_dict(), \n",
    "            'kvecs': kvecs,\n",
    "            'pseudo_order_param_input': pseudo_order_param_input},\n",
    "           'spacegroup_62_kvec_model_L_1(1).torch')"
   ]
  },
  {
   "cell_type": "code",
   "execution_count": 17,
   "metadata": {},
   "outputs": [],
   "source": [
    "features = create_features(kvecs, \n",
    "                           rounded_pseudo, \n",
    "                           normalized_B_coords)\n",
    "data = dh.DataPeriodicNeighbors(features, Rs_in, pos, struct_221.lattice.matrix, r_max, y=relative_vecs_62)\n",
    "data.to(device)\n",
    "output = model(data.x, data.edge_index, data.edge_attr, n_norm=6)"
   ]
  },
  {
   "cell_type": "code",
   "execution_count": 18,
   "metadata": {},
   "outputs": [
    {
     "data": {
      "text/plain": [
       "tensor([[-0.0270, -0.0210,  0.0270],\n",
       "        [ 0.0270,  0.0210, -0.0270],\n",
       "        [-0.0270,  0.0210,  0.0270],\n",
       "        [ 0.0270, -0.0210, -0.0270]], grad_fn=<SliceBackward>)"
      ]
     },
     "execution_count": 18,
     "metadata": {},
     "output_type": "execute_result"
    }
   ],
   "source": [
    "features[-4:, -3:]"
   ]
  },
  {
   "cell_type": "code",
   "execution_count": 19,
   "metadata": {},
   "outputs": [
    {
     "data": {
      "text/plain": [
       "<matplotlib.colorbar.Colorbar at 0x7f703c7f5690>"
      ]
     },
     "execution_count": 19,
     "metadata": {},
     "output_type": "execute_result"
    },
    {
     "data": {
      "image/png": "[encoded data removed]",
      "text/plain": [
       "<Figure size 720x216 with 3 Axes>"
      ]
     },
     "metadata": {
      "needs_background": "light"
     },
     "output_type": "display_data"
    }
   ],
   "source": [
    "fig, ax = plt.subplots(2, 1, figsize=(10, 3))\n",
    "bound = 0.2\n",
    "mappable = ax[0].imshow(data.y.cpu().detach().numpy().T, cmap=\"plasma\", vmax=bound, vmin=-bound)\n",
    "ax[1].imshow(output[:, [2, 0, 1]].cpu().detach().numpy().T, cmap=\"plasma\", vmax=bound, vmin=-bound)\n",
    "sites = [str(s.species)[0] for s in struct_62]\n",
    "\n",
    "ax[0].set_title('target output')\n",
    "ax[1].set_title('network output')\n",
    "\n",
    "ax[0].set_xticks(range(len(sites)))\n",
    "ax[0].set_xticklabels([''] * len(sites))\n",
    "ax[1].set_xticks(range(len(sites)))\n",
    "ax[1].set_xticklabels(sites)\n",
    "\n",
    "ax[0].set_yticks(range(3))\n",
    "ax[1].set_yticks(range(3))\n",
    "ax[0].set_yticklabels(['x', 'y', 'z'])\n",
    "ax[1].set_yticklabels(['x', 'y', 'z'])\n",
    "fig.colorbar(mappable, ax=ax)"
   ]
  },
  {
   "cell_type": "code",
   "execution_count": 20,
   "metadata": {},
   "outputs": [],
   "source": [
    "new_struct = Structure(new_lattice, struct_221.species,\n",
    "                       struct_221.cart_coords + output.cpu()[:, [2, 0, 1]].detach().numpy(),\n",
    "                       coords_are_cartesian=True)\n",
    "new_struct.to(filename='recovered_struct_kvec.cif')"
   ]
  },
  {
   "cell_type": "code",
   "execution_count": 21,
   "metadata": {},
   "outputs": [
    {
     "data": {
      "text/plain": [
       "62"
      ]
     },
     "execution_count": 21,
     "metadata": {},
     "output_type": "execute_result"
    }
   ],
   "source": [
    "pga = SpacegroupAnalyzer(new_struct, symprec=1e-3)\n",
    "pga.get_space_group_number()"
   ]
  },
  {
   "cell_type": "code",
   "execution_count": null,
   "metadata": {},
   "outputs": [],
   "source": []
  }
 ],
 "metadata": {
  "kernelspec": {
   "display_name": "Python 3",
   "language": "python",
   "name": "python3"
  },
  "language_info": {
   "codemirror_mode": {
    "name": "ipython",
    "version": 3
   },
   "file_extension": ".py",
   "mimetype": "text/x-python",
   "name": "python",
   "nbconvert_exporter": "python",
   "pygments_lexer": "ipython3",
   "version": "3.7.5"
  }
 },
 "nbformat": 4,
 "nbformat_minor": 2
}
